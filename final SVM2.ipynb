{
 "cells": [
  {
   "cell_type": "code",
   "execution_count": 1,
   "metadata": {},
   "outputs": [],
   "source": [
    "import pandas as pd\n",
    "import numpy as np\n",
    "#from sklearn.tree import DecisionTreeRegressor\n",
    "from sklearn.model_selection import train_test_split"
   ]
  },
  {
   "cell_type": "code",
   "execution_count": 2,
   "metadata": {},
   "outputs": [],
   "source": [
    "data = pd.read_csv('new_data_actual.csv')"
   ]
  },
  {
   "cell_type": "code",
   "execution_count": 3,
   "metadata": {},
   "outputs": [
    {
     "data": {
      "text/html": [
       "<div>\n",
       "<style scoped>\n",
       "    .dataframe tbody tr th:only-of-type {\n",
       "        vertical-align: middle;\n",
       "    }\n",
       "\n",
       "    .dataframe tbody tr th {\n",
       "        vertical-align: top;\n",
       "    }\n",
       "\n",
       "    .dataframe thead th {\n",
       "        text-align: right;\n",
       "    }\n",
       "</style>\n",
       "<table border=\"1\" class=\"dataframe\">\n",
       "  <thead>\n",
       "    <tr style=\"text-align: right;\">\n",
       "      <th></th>\n",
       "      <th>Depth</th>\n",
       "      <th>WS</th>\n",
       "      <th>RH (%)</th>\n",
       "      <th>Temp (Deg)</th>\n",
       "      <th>PM0.23_0.30</th>\n",
       "      <th>PM0.30_0.40</th>\n",
       "      <th>PM0.40_0.50</th>\n",
       "      <th>PM0.50_0.65</th>\n",
       "      <th>PM0.65_0.80</th>\n",
       "      <th>PM0.80_1</th>\n",
       "      <th>PM1_1.6</th>\n",
       "      <th>PM1.6_2</th>\n",
       "      <th>PM2_3</th>\n",
       "      <th>PM3_4</th>\n",
       "      <th>PM4_5</th>\n",
       "      <th>PM5_7.5</th>\n",
       "      <th>PM7.5_10</th>\n",
       "      <th>PM10_15</th>\n",
       "      <th>PM15_20</th>\n",
       "    </tr>\n",
       "  </thead>\n",
       "  <tbody>\n",
       "  </tbody>\n",
       "</table>\n",
       "</div>"
      ],
      "text/plain": [
       "Empty DataFrame\n",
       "Columns: [Depth, WS, RH (%), Temp (Deg), PM0.23_0.30, PM0.30_0.40, PM0.40_0.50, PM0.50_0.65, PM0.65_0.80, PM0.80_1, PM1_1.6, PM1.6_2, PM2_3, PM3_4, PM4_5, PM5_7.5, PM7.5_10, PM10_15, PM15_20]\n",
       "Index: []"
      ]
     },
     "execution_count": 3,
     "metadata": {},
     "output_type": "execute_result"
    }
   ],
   "source": [
    "data_points = pd.DataFrame()\n",
    "data.head(0)"
   ]
  },
  {
   "cell_type": "code",
   "execution_count": 4,
   "metadata": {},
   "outputs": [],
   "source": [
    "data_points[\"Depth\"] = data[\"Depth\"]\n",
    "data_points[\"WS\"] = data[\"WS\"]\n",
    "data_points[\"RH (%)\"] = data[\"RH (%)\"]\n",
    "data_points[\"Temp (Deg)\"] = data[\"Temp (Deg)\"]"
   ]
  },
  {
   "cell_type": "code",
   "execution_count": 5,
   "metadata": {},
   "outputs": [],
   "source": [
    "data_target = pd.DataFrame(data[\"PM0.23_0.30\"])\n",
    "data_points = np.array(data_points)\n",
    "data_target = np.array(data_target)\n",
    "data_target = data_target.reshape(1,-1)[0]"
   ]
  },
  {
   "cell_type": "markdown",
   "metadata": {},
   "source": [
    "li2=[]\n",
    "for i in range(1,100000):\n",
    "    rng = check_random_state(i)\n",
    "    X_train,X_test, y_train, y_test = train_test_split(data_points,data_target,random_state=rng)\n",
    "    #n_samples, n_features = 10, 5\n",
    "#rng = np.random.RandomState(0)\n",
    "#y = rng.randn(n_samples)\n",
    "#X = rng.randn(n_samples, n_features)\n",
    "    clf3 = SVR(gamma='auto', C=1.0, epsilon=0.1)\n",
    "    clf3.fit(X_train, y_train) \n",
    "    y_pred=clf3.predict(X_test)\n",
    "    pp=r2_score(y_test, y_pred, sample_weight=None, multioutput='uniform_average')\n",
    "    #print(i,\"  \",pp)\n",
    "    li2.append(pp)\n",
    "print(max(li2),li2.index(max(li2))+1)\n",
    "\n",
    "    "
   ]
  },
  {
   "cell_type": "code",
   "execution_count": 41,
   "metadata": {},
   "outputs": [
    {
     "name": "stdout",
     "output_type": "stream",
     "text": [
      "training\n",
      "Model Performance\n",
      "Average Error: 0.7628 degrees.\n",
      "Accuracy = 91.72%.\n",
      "tesiting\n",
      "Model Performance\n",
      "Average Error: 0.5100 degrees.\n",
      "Accuracy = 89.37%.\n"
     ]
    }
   ],
   "source": [
    "from sklearn.svm import SVR\n",
    "from sklearn.utils import check_random_state\n",
    "import numpy as np\n",
    "rng = check_random_state(47)\n",
    "X_train,X_test, y_train, y_test = train_test_split(data_points,data_target,random_state=rng)\n",
    "#n_samples, n_features = 10, 5\n",
    "#rng = np.random.RandomState(0)\n",
    "#y = rng.randn(n_samples)\n",
    "#X = rng.randn(n_samples, n_features)\n",
    "clf2 = SVR(kernel='rbf',gamma='auto', C=11.0, epsilon=0.00099,degree=5,shrinking=False,coef0=0.1)\n",
    "clf2.fit(X_train, y_train) \n",
    "print(\"training\")\n",
    "base_accuracy = evaluate(clf2,X_train,y_train)\n",
    "print(\"tesiting\")\n",
    "base_accuracy = evaluate(clf2,X_test,y_test)"
   ]
  },
  {
   "cell_type": "code",
   "execution_count": null,
   "metadata": {},
   "outputs": [],
   "source": []
  },
  {
   "cell_type": "code",
   "execution_count": 42,
   "metadata": {
    "scrolled": true
   },
   "outputs": [
    {
     "data": {
      "text/plain": [
       "0.9630333644408333"
      ]
     },
     "execution_count": 42,
     "metadata": {},
     "output_type": "execute_result"
    }
   ],
   "source": [
    "y_pred=clf2.predict(X_test)\n",
    "from sklearn.metrics import r2_score\n",
    "a=r2_score(y_test, y_pred, sample_weight=None, multioutput='uniform_average')\n",
    "a"
   ]
  },
  {
   "cell_type": "code",
   "execution_count": null,
   "metadata": {},
   "outputs": [],
   "source": [
    "from sklearn.metrics import explained_variance_score\n",
    "from sklearn.metrics import max_error\n",
    "\n",
    "\n",
    "var_scr=explained_variance_score(y_test, y_pred, multioutput='uniform_average')\n",
    "max_err=max_error(y_test, y_pred,)\n",
    "print(var_scr,\n",
    "max_err)"
   ]
  },
  {
   "cell_type": "code",
   "execution_count": 7,
   "metadata": {},
   "outputs": [],
   "source": [
    "def evaluate(model, test_features, test_labels):\n",
    "    predictions = model.predict(test_features)\n",
    "    errors = abs(predictions - test_labels)\n",
    "    mape = 100 * np.mean(errors / test_labels)\n",
    "    accuracy = 100 - mape\n",
    "    print('Model Performance')\n",
    "    print('Average Error: {:0.4f} degrees.'.format(np.mean(errors)))\n",
    "    print('Accuracy = {:0.2f}%.'.format(accuracy))\n",
    "    \n",
    "    return accuracy"
   ]
  },
  {
   "cell_type": "code",
   "execution_count": 43,
   "metadata": {},
   "outputs": [
    {
     "name": "stdout",
     "output_type": "stream",
     "text": [
      "Model Performance\n",
      "Average Error: 0.6996 degrees.\n",
      "Accuracy = 91.13%.\n"
     ]
    }
   ],
   "source": [
    "base_accuracy = evaluate(clf2, data_points, data_target)"
   ]
  },
  {
   "cell_type": "code",
   "execution_count": null,
   "metadata": {},
   "outputs": [],
   "source": []
  },
  {
   "cell_type": "code",
   "execution_count": null,
   "metadata": {},
   "outputs": [],
   "source": []
  },
  {
   "cell_type": "code",
   "execution_count": null,
   "metadata": {},
   "outputs": [],
   "source": []
  },
  {
   "cell_type": "code",
   "execution_count": null,
   "metadata": {},
   "outputs": [],
   "source": []
  },
  {
   "cell_type": "code",
   "execution_count": null,
   "metadata": {},
   "outputs": [],
   "source": []
  },
  {
   "cell_type": "code",
   "execution_count": null,
   "metadata": {},
   "outputs": [],
   "source": []
  },
  {
   "cell_type": "code",
   "execution_count": null,
   "metadata": {},
   "outputs": [],
   "source": []
  },
  {
   "cell_type": "code",
   "execution_count": null,
   "metadata": {},
   "outputs": [],
   "source": []
  },
  {
   "cell_type": "code",
   "execution_count": null,
   "metadata": {},
   "outputs": [],
   "source": []
  },
  {
   "cell_type": "code",
   "execution_count": null,
   "metadata": {},
   "outputs": [],
   "source": []
  }
 ],
 "metadata": {
  "kernelspec": {
   "display_name": "Python 3",
   "language": "python",
   "name": "python3"
  },
  "language_info": {
   "codemirror_mode": {
    "name": "ipython",
    "version": 3
   },
   "file_extension": ".py",
   "mimetype": "text/x-python",
   "name": "python",
   "nbconvert_exporter": "python",
   "pygments_lexer": "ipython3",
   "version": "3.6.8"
  }
 },
 "nbformat": 4,
 "nbformat_minor": 2
}
